{
  "nbformat": 4,
  "nbformat_minor": 0,
  "metadata": {
    "colab": {
      "provenance": [],
      "authorship_tag": "ABX9TyOPp8FDNgDBATJoCiShqgPZ",
      "include_colab_link": true
    },
    "kernelspec": {
      "name": "python3",
      "display_name": "Python 3"
    },
    "language_info": {
      "name": "python"
    }
  },
  "cells": [
    {
      "cell_type": "markdown",
      "metadata": {
        "id": "view-in-github",
        "colab_type": "text"
      },
      "source": [
        "<a href=\"https://colab.research.google.com/github/ddiramisoo1230/NLP_PictureBook_2025/blob/main/_20250150_ch8ch09.ipynb\" target=\"_parent\"><img src=\"https://colab.research.google.com/assets/colab-badge.svg\" alt=\"Open In Colab\"/></a>"
      ]
    },
    {
      "cell_type": "code",
      "execution_count": null,
      "metadata": {
        "colab": {
          "base_uri": "https://localhost:8080/"
        },
        "id": "Zw4KORhrOdxT",
        "outputId": "2d1cdb57-3817-40be-811e-218dd904f2bb"
      },
      "outputs": [
        {
          "output_type": "stream",
          "name": "stdout",
          "text": [
            "1 번째 : s\n",
            "2 번째 : p\n",
            "3 번째 : r\n",
            "4 번째 : i\n",
            "5 번째 : n\n",
            "6 번째 : g\n"
          ]
        }
      ],
      "source": [
        "s='spring'\n",
        "for i in range(len(s)):\n",
        "  print(i+1,'번째 :',s[i])"
      ]
    },
    {
      "cell_type": "code",
      "source": [
        "num=['첫번째','두번째','세번째']\n",
        "fruit=['사과','딸기','수박']\n",
        "for i in range(len(num)):\n",
        "  print(num[i],'과일은',fruit[i])"
      ],
      "metadata": {
        "colab": {
          "base_uri": "https://localhost:8080/"
        },
        "id": "XMQsop4aSg1A",
        "outputId": "5238f109-59ee-47d6-ab58-9826296ed42c"
      },
      "execution_count": null,
      "outputs": [
        {
          "output_type": "stream",
          "name": "stdout",
          "text": [
            "첫번째 과일은 사과\n",
            "두번째 과일은 딸기\n",
            "세번째 과일은 수박\n"
          ]
        }
      ]
    },
    {
      "cell_type": "code",
      "source": [
        "#오늘 당신의 컬러는 00색입니다.\n",
        "import random\n",
        "color=['red','green','blue','purple','orange','brown']\n",
        "n=random.randint(0,5) #1부터 5까지 숫자 중에 하나를 뽑아 n에 저장\n",
        "print(n,'오늘 당신의 컬러는',color[n],'색입니다.')"
      ],
      "metadata": {
        "colab": {
          "base_uri": "https://localhost:8080/"
        },
        "id": "FL9xtjVtTK95",
        "outputId": "bba3140d-533a-4134-d3d3-cf7f3dd1ae9f"
      },
      "execution_count": null,
      "outputs": [
        {
          "output_type": "stream",
          "name": "stdout",
          "text": [
            "3 오늘 당신의 컬러는 purple 색입니다.\n"
          ]
        }
      ]
    },
    {
      "cell_type": "code",
      "source": [
        "#랜덤으로 숫자를 5개 뽑아서 num_list에 추가하여 오름차순 정렬하여 출력\n",
        "import random\n",
        "num_list=[]\n",
        "for i in range(5):\n",
        "  n=random.randint(1,100)\n",
        "  num_list.append(n)\n",
        "num_list.sort()\n",
        "print(num_list)"
      ],
      "metadata": {
        "colab": {
          "base_uri": "https://localhost:8080/"
        },
        "id": "dR2sV27ZUVlo",
        "outputId": "53aaf3ac-f123-475d-926d-9b99106ea98b"
      },
      "execution_count": null,
      "outputs": [
        {
          "output_type": "stream",
          "name": "stdout",
          "text": [
            "[15, 51, 60, 69, 75]\n"
          ]
        }
      ]
    },
    {
      "cell_type": "code",
      "source": [
        "#랜덤으로 숫자를 뽑아서 짝수 5개 num_list에 추가하여 오름차순 정렬하여 출력\n",
        "import random\n",
        "num_list=[]\n",
        "cnt=0\n",
        "while True:\n",
        "  n=random.randint(1,100)\n",
        "  if n%2==0:\n",
        "    num_list.append(n)\n",
        "    if len(num_list)==5:\n",
        "      break\n",
        "num_list.sort()\n",
        "print(num_list)"
      ],
      "metadata": {
        "colab": {
          "base_uri": "https://localhost:8080/"
        },
        "id": "0q0xSPx-VOa8",
        "outputId": "0ae57d24-a982-4b81-964c-7040172bf9df"
      },
      "execution_count": null,
      "outputs": [
        {
          "output_type": "stream",
          "name": "stdout",
          "text": [
            "[8, 8, 14, 20, 80]\n"
          ]
        }
      ]
    },
    {
      "cell_type": "code",
      "source": [
        "#ten이라는 리스트에 1부터 10까지 넣기\n",
        "#odd라는 리스트에는 ten이라는 리스트의 짝수만 추가\n",
        "#even이라는 리스트에는 ten이라는 리스트의 홀수만 추가하여 출력\n",
        "ten=[]\n",
        "odd=[]\n",
        "even=[]\n",
        "for i in range(10): #i는 0부터 10개이므로 0~9까지의 숫자\n",
        "  ten.append(i+1)\n",
        "for i in range(10):\n",
        "  if ten[i]%2==0:\n",
        "    even.append(ten[i])\n",
        "  else:\n",
        "    odd.append(ten[i])\n",
        "print(ten)\n",
        "print(odd)\n",
        "print(even)"
      ],
      "metadata": {
        "colab": {
          "base_uri": "https://localhost:8080/"
        },
        "id": "eDEWTp6GWuK7",
        "outputId": "35424194-2458-43d8-8380-d572721966b0"
      },
      "execution_count": null,
      "outputs": [
        {
          "output_type": "stream",
          "name": "stdout",
          "text": [
            "[1, 2, 3, 4, 5, 6, 7, 8, 9, 10]\n",
            "[1, 3, 5, 7, 9]\n",
            "[2, 4, 6, 8, 10]\n"
          ]
        }
      ]
    },
    {
      "cell_type": "code",
      "source": [
        "#랜덤으로 숫자 10개를 뽑아서 3의 배수만 milti3리스트에 추가하시오\n",
        "10개를 모두 뽑아서 하나씩 3의 배수를 확인하여 appended\n",
        "1개 뽑고 3의 배수 확인하여 append하는 작업을 10번"
      ],
      "metadata": {
        "id": "lg02qi9BYJHp",
        "colab": {
          "base_uri": "https://localhost:8080/",
          "height": 109
        },
        "outputId": "dcfabc18-759b-4b33-b545-954fdd9168ed"
      },
      "execution_count": null,
      "outputs": [
        {
          "output_type": "error",
          "ename": "SyntaxError",
          "evalue": "invalid syntax (<ipython-input-87-b907c63bd220>, line 2)",
          "traceback": [
            "\u001b[0;36m  File \u001b[0;32m\"<ipython-input-87-b907c63bd220>\"\u001b[0;36m, line \u001b[0;32m2\u001b[0m\n\u001b[0;31m    10개를 모두 뽑아서 하나씩 3의 배수를 확인하여 appended\u001b[0m\n\u001b[0m      ^\u001b[0m\n\u001b[0;31mSyntaxError\u001b[0m\u001b[0;31m:\u001b[0m invalid syntax\n"
          ]
        }
      ]
    },
    {
      "cell_type": "code",
      "source": [
        "import random\n",
        "num=[]\n",
        "multi3=[]\n",
        "for i in range(10):\n",
        "  num.append(random.randint(1,100))\n",
        "print(num)\n",
        "for i in num:\n",
        "  if i%3==0:\n",
        "    multi3.append(n)\n",
        "print(multi3)"
      ],
      "metadata": {
        "id": "NkVhA05KYtci",
        "colab": {
          "base_uri": "https://localhost:8080/"
        },
        "outputId": "d2cf39cf-a93a-4889-a898-39a60643ee92"
      },
      "execution_count": null,
      "outputs": [
        {
          "output_type": "stream",
          "name": "stdout",
          "text": [
            "[84, 57, 75, 72, 80, 47, 18, 70, 50, 76]\n",
            "[100, 100, 100, 100, 100]\n"
          ]
        }
      ]
    },
    {
      "cell_type": "code",
      "source": [
        "import random\n",
        "num=[]\n",
        "multi3=[]\n",
        "for i in range(10):\n",
        "  n=random.randint(1,100)\n",
        "  print(n,end=' ')\n",
        "  if n%3==0:\n",
        "    multi3.append(n)\n",
        "\n",
        "print('\\n',multi3)"
      ],
      "metadata": {
        "colab": {
          "base_uri": "https://localhost:8080/"
        },
        "id": "sghHb6Qua4fh",
        "outputId": "d786e887-aa26-4e20-fcc7-558944d26d67"
      },
      "execution_count": null,
      "outputs": [
        {
          "output_type": "stream",
          "name": "stdout",
          "text": [
            "75 13 99 1 12 13 29 63 52 41 \n",
            " [75, 99, 12, 63]\n"
          ]
        }
      ]
    },
    {
      "cell_type": "code",
      "source": [
        "#multi라는 리스트에 3과 4의 공배수를 추가하시오(1~100사이의 숫자를 이용)\n",
        "for문을 100번 반복\n",
        "  만약 i가 3의 배수 그리고 4의 배수이면\n",
        "    multi.append(i)\n",
        "print(multi)"
      ],
      "metadata": {
        "colab": {
          "base_uri": "https://localhost:8080/",
          "height": 109
        },
        "id": "emv0jyOEaQnY",
        "outputId": "033af547-80b6-46f5-81ea-ddfd9123a50c"
      },
      "execution_count": null,
      "outputs": [
        {
          "output_type": "error",
          "ename": "SyntaxError",
          "evalue": "invalid syntax (<ipython-input-85-f6bb7e2d6404>, line 2)",
          "traceback": [
            "\u001b[0;36m  File \u001b[0;32m\"<ipython-input-85-f6bb7e2d6404>\"\u001b[0;36m, line \u001b[0;32m2\u001b[0m\n\u001b[0;31m    for문을 100번 반복\u001b[0m\n\u001b[0m          ^\u001b[0m\n\u001b[0;31mSyntaxError\u001b[0m\u001b[0;31m:\u001b[0m invalid syntax\n"
          ]
        }
      ]
    },
    {
      "cell_type": "code",
      "source": [
        "multi=[]\n",
        "for i in range(1,101):\n",
        "  if i%3==0 and i%4==0:\n",
        "    multi.append(i)\n",
        "print(multi)"
      ],
      "metadata": {
        "colab": {
          "base_uri": "https://localhost:8080/"
        },
        "id": "UkaA94gWckyF",
        "outputId": "a99974f7-bc52-4a0c-81b8-fc15d55775c0"
      },
      "execution_count": null,
      "outputs": [
        {
          "output_type": "stream",
          "name": "stdout",
          "text": [
            "[12, 24, 36, 48, 60, 72, 84, 96]\n"
          ]
        }
      ]
    },
    {
      "cell_type": "code",
      "source": [
        "#div라는 리스트에 24의 약수를 추가하시오\n",
        "tw=[]\n",
        "for문을 24번 반복:\n",
        "  24를 i로 나누어서 나머지가 0이면\n",
        "    리스트에 추가\n",
        "리스트 출력"
      ],
      "metadata": {
        "id": "OKY_CQwccCt9"
      },
      "execution_count": null,
      "outputs": []
    },
    {
      "cell_type": "code",
      "source": [
        "tw=[]\n",
        "for i in range(1,25):\n",
        "  if 24%i==0:\n",
        "    tw.append(i)\n",
        "print(tw)\n"
      ],
      "metadata": {
        "colab": {
          "base_uri": "https://localhost:8080/"
        },
        "id": "DDF52g2pc6nQ",
        "outputId": "77e17d53-6a9b-4a2a-d488-3802bd2b56cd"
      },
      "execution_count": null,
      "outputs": [
        {
          "output_type": "stream",
          "name": "stdout",
          "text": [
            "[1, 2, 3, 4, 6, 8, 12, 24]\n"
          ]
        }
      ]
    }
  ]
}