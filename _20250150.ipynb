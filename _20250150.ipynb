{
  "nbformat": 4,
  "nbformat_minor": 0,
  "metadata": {
    "colab": {
      "provenance": [],
      "authorship_tag": "ABX9TyMZDaqtEVNoDbGaceCooU26",
      "include_colab_link": true
    },
    "kernelspec": {
      "name": "python3",
      "display_name": "Python 3"
    },
    "language_info": {
      "name": "python"
    }
  },
  "cells": [
    {
      "cell_type": "markdown",
      "metadata": {
        "id": "view-in-github",
        "colab_type": "text"
      },
      "source": [
        "<a href=\"https://colab.research.google.com/github/ddiramisoo1230/NLP_PictureBook_2025/blob/main/_20250150.ipynb\" target=\"_parent\"><img src=\"https://colab.research.google.com/assets/colab-badge.svg\" alt=\"Open In Colab\"/></a>"
      ]
    },
    {
      "cell_type": "code",
      "source": [
        "#01\n",
        "list1=[3,5,7]\n",
        "list2=[2,3,4,5,6]\n",
        "for i in list1:\n",
        "  for j in list2:\n",
        "    print(i,'*',j,'=',i*j)"
      ],
      "metadata": {
        "colab": {
          "base_uri": "https://localhost:8080/"
        },
        "id": "DiRp9_29mUtS",
        "outputId": "6925c0bb-f6b0-4653-f467-b5ef344dbd2c"
      },
      "execution_count": null,
      "outputs": [
        {
          "output_type": "stream",
          "name": "stdout",
          "text": [
            "3 * 2 = 6\n",
            "3 * 3 = 9\n",
            "3 * 4 = 12\n",
            "3 * 5 = 15\n",
            "3 * 6 = 18\n",
            "5 * 2 = 10\n",
            "5 * 3 = 15\n",
            "5 * 4 = 20\n",
            "5 * 5 = 25\n",
            "5 * 6 = 30\n",
            "7 * 2 = 14\n",
            "7 * 3 = 21\n",
            "7 * 4 = 28\n",
            "7 * 5 = 35\n",
            "7 * 6 = 42\n"
          ]
        }
      ]
    },
    {
      "cell_type": "code",
      "execution_count": null,
      "metadata": {
        "colab": {
          "base_uri": "https://localhost:8080/"
        },
        "id": "-RE7RSX2a9Bn",
        "outputId": "bc2898b8-d704-49bf-9959-c26a9149ec19"
      },
      "outputs": [
        {
          "output_type": "stream",
          "name": "stdout",
          "text": [
            "3*2=6\n",
            "3*3=9\n",
            "3*4=12\n",
            "3*5=15\n",
            "3*6=18\n",
            "5*2=10\n",
            "5*3=15\n",
            "5*4=20\n",
            "5*5=25\n",
            "5*6=30\n",
            "7*2=14\n",
            "7*3=21\n",
            "7*4=28\n",
            "7*5=35\n",
            "7*6=42\n"
          ]
        }
      ],
      "source": [
        "#01\n",
        "list1=[3,5,7]\n",
        "list2=[2,3,4,5,6]\n",
        "for i in list1:\n",
        "  for j in list2:\n",
        "    print(f'{i}*{j}={i*j}')\n"
      ]
    },
    {
      "cell_type": "code",
      "source": [
        "#2\n",
        "fruit_list=['banana','orange','kiwi','apple','melon']\n",
        "for i in fruit_list:\n",
        "  print(i,\":문자열의길이\", len(i))"
      ],
      "metadata": {
        "colab": {
          "base_uri": "https://localhost:8080/"
        },
        "id": "TzhtdJiLf1AN",
        "outputId": "d5055433-4f83-48db-8d66-b609b6421e23"
      },
      "execution_count": null,
      "outputs": [
        {
          "output_type": "stream",
          "name": "stdout",
          "text": [
            "banana :문자열의길이 6\n",
            "orange :문자열의길이 6\n",
            "kiwi :문자열의길이 4\n",
            "apple :문자열의길이 5\n",
            "melon :문자열의길이 5\n"
          ]
        }
      ]
    },
    {
      "cell_type": "code",
      "source": [
        "#2\n",
        "fruit_list=['banana','orange','kiwi','apple','melon']\n",
        "for i in range(len(fruit_list)):\n",
        "  print(fruit_list[i],\":문자열의길이\", len(fruit_list[i]))"
      ],
      "metadata": {
        "colab": {
          "base_uri": "https://localhost:8080/"
        },
        "id": "z-AZb-kTmwzj",
        "outputId": "1e5c3ac1-61a8-4135-869a-a034b80e75da"
      },
      "execution_count": null,
      "outputs": [
        {
          "output_type": "stream",
          "name": "stdout",
          "text": [
            "banana :문자열의길이 6\n",
            "orange :문자열의길이 6\n",
            "kiwi :문자열의길이 4\n",
            "apple :문자열의길이 5\n",
            "melon :문자열의길이 5\n"
          ]
        }
      ]
    },
    {
      "cell_type": "code",
      "source": [
        "spell=['j','e','s','u','s']\n",
        "spell[2]=\"l\"\n",
        "spell[3]=\"l\"\n",
        "spell[4]=\"y\"\n",
        "print(spell)"
      ],
      "metadata": {
        "colab": {
          "base_uri": "https://localhost:8080/"
        },
        "id": "NtwbCKXnnLoY",
        "outputId": "11d72351-da98-440b-b6dc-e8640ddecbee"
      },
      "execution_count": null,
      "outputs": [
        {
          "output_type": "stream",
          "name": "stdout",
          "text": [
            "['j', 'e', 'l', 'l', 'y']\n"
          ]
        }
      ]
    },
    {
      "cell_type": "code",
      "source": [
        "#3\n",
        "spell=['j','e','s','u','s']\n",
        "spell[2:]=\"lly\"\n",
        "print(spell)"
      ],
      "metadata": {
        "colab": {
          "base_uri": "https://localhost:8080/"
        },
        "id": "dY500OzbixTE",
        "outputId": "53e7b930-d8ff-4169-89eb-3ed429584112"
      },
      "execution_count": null,
      "outputs": [
        {
          "output_type": "stream",
          "name": "stdout",
          "text": [
            "['j', 'e', 'l', 'l', 'y']\n"
          ]
        }
      ]
    },
    {
      "cell_type": "code",
      "source": [
        "import random\n",
        "lotto=[]\n",
        "while len(lotto)<6:\n",
        "  n=random.randint(1,45)\n",
        "  if n in lotto:\n",
        "    continue\n",
        "  else:\n",
        "    lotto.append(n)\n",
        "lotto.sort()\n",
        "print(lotto)"
      ],
      "metadata": {
        "colab": {
          "base_uri": "https://localhost:8080/"
        },
        "id": "Mq3rkBbwnj9Q",
        "outputId": "6965721e-f80c-457d-e87a-b495fb2ef1c8"
      },
      "execution_count": null,
      "outputs": [
        {
          "output_type": "stream",
          "name": "stdout",
          "text": [
            "[10, 12, 15, 29, 35, 38]\n"
          ]
        }
      ]
    },
    {
      "cell_type": "code",
      "source": [
        "import random\n",
        "goodsay=['happy','love','sad','hot','angry','fortunage']\n",
        "a =random.choice(goodsay)\n",
        "name=input('당신의 이름:')\n",
        "print(name,'님의 오늘의 운세는',a,'입니다.')\n",
        "print(f\"{name}님의 오늘의 운세는 {a}입니다.\")"
      ],
      "metadata": {
        "colab": {
          "base_uri": "https://localhost:8080/"
        },
        "id": "HHyzDubpo665",
        "outputId": "aac85872-466e-4d3f-8801-cb344d65564c"
      },
      "execution_count": null,
      "outputs": [
        {
          "output_type": "stream",
          "name": "stdout",
          "text": [
            "당신의 이름:dlwodbs\n",
            "dlwodbs 님의 오늘의 운세는 happy 입니다.\n",
            "dlwodbs님의 오늘의 운세는 happy입니다.\n"
          ]
        }
      ]
    },
    {
      "cell_type": "code",
      "source": [
        "#5\n",
        "score=[80,90,70,60,50]\n",
        "cnt=0\n",
        "for i in score:\n",
        "  if i >=80:\n",
        "    cnt+=1\n",
        "print('합격생 수는',cnt,'명입니다.')"
      ],
      "metadata": {
        "colab": {
          "base_uri": "https://localhost:8080/"
        },
        "id": "lDkX6e8OjzCM",
        "outputId": "6b51d19c-f1d1-4132-c0a7-847c82b8886a"
      },
      "execution_count": null,
      "outputs": [
        {
          "output_type": "stream",
          "name": "stdout",
          "text": [
            "합격생 수는 2 명입니다.\n"
          ]
        }
      ]
    },
    {
      "cell_type": "code",
      "source": [
        "#6\n",
        "stu={}\n",
        "for i in range(5):\n",
        "  name=input('이름:')\n",
        "  num=input('학번:')\n",
        "  stu[name]=num\n",
        "print(stu)"
      ],
      "metadata": {
        "id": "59KXEOLWkyE3"
      },
      "execution_count": null,
      "outputs": []
    },
    {
      "cell_type": "code",
      "source": [
        "stu={'홍길동':'1','이순신':'2','이황':'3','이이':'4','세종대왕':'5'}\n",
        "stu['이황']=7\n",
        "del(stu['세종대왕'])\n",
        "print(stu)\n",
        "print(stu['이순신'])\n",
        "name2=input('찾고 싶은 이름:')\n",
        "if name2 in stu.keys():\n",
        "  print(stu[name2])\n",
        "else:\n",
        "  print('없는 이름입니다.')"
      ],
      "metadata": {
        "colab": {
          "base_uri": "https://localhost:8080/"
        },
        "id": "UKh5v5k5qmRx",
        "outputId": "ed65b945-fde6-405b-dc19-004509fe742f"
      },
      "execution_count": null,
      "outputs": [
        {
          "output_type": "stream",
          "name": "stdout",
          "text": [
            "{'홍길동': '1', '이순신': '2', '이황': 7, '이이': '4'}\n",
            "2\n",
            "찾고 싶은 이름:재윤\n",
            "없는 이름입니다.\n"
          ]
        }
      ]
    }
  ]
}