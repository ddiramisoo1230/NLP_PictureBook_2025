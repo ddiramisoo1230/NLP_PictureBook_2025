{
  "nbformat": 4,
  "nbformat_minor": 0,
  "metadata": {
    "colab": {
      "provenance": [],
      "authorship_tag": "ABX9TyO5ban1QFK0yVgQJM39TGln",
      "include_colab_link": true
    },
    "kernelspec": {
      "name": "python3",
      "display_name": "Python 3"
    },
    "language_info": {
      "name": "python"
    }
  },
  "cells": [
    {
      "cell_type": "markdown",
      "metadata": {
        "id": "view-in-github",
        "colab_type": "text"
      },
      "source": [
        "<a href=\"https://colab.research.google.com/github/ddiramisoo1230/NLP_PictureBook_2025/blob/main/_20250150.ipynb\" target=\"_parent\"><img src=\"https://colab.research.google.com/assets/colab-badge.svg\" alt=\"Open In Colab\"/></a>"
      ]
    },
    {
      "cell_type": "code",
      "source": [
        "\"파이썬\"을 세로로 세 번 출력하는 v_print함수를 만들어 호출하시오"
      ],
      "metadata": {
        "id": "AyaKAiCeev1n"
      },
      "execution_count": null,
      "outputs": []
    },
    {
      "cell_type": "code",
      "source": [
        "def v_print():\n",
        "  for i in range(3):\n",
        "    print('파이썬')\n",
        "v_print()"
      ],
      "metadata": {
        "colab": {
          "base_uri": "https://localhost:8080/"
        },
        "id": "i10DmH1OgjE3",
        "outputId": "ca067608-821c-428c-c164-adec89bc40d3"
      },
      "execution_count": null,
      "outputs": [
        {
          "output_type": "stream",
          "name": "stdout",
          "text": [
            "파이썬\n",
            "파이썬\n",
            "파이썬\n"
          ]
        }
      ]
    },
    {
      "cell_type": "code",
      "source": [
        "\"파이썬\"을 가로로 세 번 출력하는 h_print함수를 만들어 호출하시오"
      ],
      "metadata": {
        "id": "bLrQJSdVe12A"
      },
      "execution_count": null,
      "outputs": []
    },
    {
      "cell_type": "code",
      "source": [
        "def h_print():\n",
        "  for i in range(3):\n",
        "    print('파이썬',end=' ')\n",
        "h_print()"
      ],
      "metadata": {
        "colab": {
          "base_uri": "https://localhost:8080/"
        },
        "id": "B-VbngrFhFl3",
        "outputId": "f85e80e0-7d19-459e-9578-5b7ba345c9a6"
      },
      "execution_count": null,
      "outputs": [
        {
          "output_type": "stream",
          "name": "stdout",
          "text": [
            "파이썬 파이썬 파이썬 "
          ]
        }
      ]
    },
    {
      "cell_type": "code",
      "execution_count": null,
      "metadata": {
        "id": "0LEb9E20egv5"
      },
      "outputs": [],
      "source": [
        "이름을 입력받아\n",
        "\"00님 안녕하세요\"라고 출력하는 greeting함수를 만들어 호출하시오"
      ]
    },
    {
      "cell_type": "code",
      "source": [
        "def greeting():\n",
        "  name=input('이름:')\n",
        "  print(name+'님 안녕하세요')\n",
        "greeting()"
      ],
      "metadata": {
        "colab": {
          "base_uri": "https://localhost:8080/"
        },
        "id": "gZEu2WrfhPNf",
        "outputId": "f0e17c1b-4f23-44bf-bc78-75d3b970f6c5"
      },
      "execution_count": null,
      "outputs": [
        {
          "output_type": "stream",
          "name": "stdout",
          "text": [
            "이름:dd\n",
            "dd님 안녕하세요\n"
          ]
        }
      ]
    },
    {
      "cell_type": "code",
      "source": [
        "가로길이와 세로 길이를 입력받아 사각형의 넓이를 출력하는 코드를 작성하시오"
      ],
      "metadata": {
        "id": "zC7dNoPOe6Pw"
      },
      "execution_count": null,
      "outputs": []
    },
    {
      "cell_type": "code",
      "source": [
        "def area():  #가로세로 길이를 입력받아 넓이를 계산해서 출력해주는 함수\n",
        "  w=int(input('가로길이:'))\n",
        "  h=int(input('세로길이:'))\n",
        "  a=w*h\n",
        "  print(a)\n",
        "area()"
      ],
      "metadata": {
        "colab": {
          "base_uri": "https://localhost:8080/"
        },
        "id": "YbKTN3zshsUn",
        "outputId": "30c3d18a-921c-415e-94b1-f0538c9483ad"
      },
      "execution_count": null,
      "outputs": [
        {
          "output_type": "stream",
          "name": "stdout",
          "text": [
            "가로길이:10\n",
            "세로길이:20\n",
            "200\n"
          ]
        }
      ]
    },
    {
      "cell_type": "code",
      "source": [
        "위의 내용을 area라는 함수로 만들어보시오"
      ],
      "metadata": {
        "id": "aThB4cfie-1n"
      },
      "execution_count": null,
      "outputs": []
    },
    {
      "cell_type": "code",
      "source": [
        "area라는 함수를 호출해보시오"
      ],
      "metadata": {
        "id": "bcmkdA2afB1G"
      },
      "execution_count": null,
      "outputs": []
    },
    {
      "cell_type": "code",
      "source": [
        "area라는 함수에 매개변수(가로,세로)형태로 변형해보시오"
      ],
      "metadata": {
        "id": "jP9-KaGQfE__"
      },
      "execution_count": null,
      "outputs": []
    },
    {
      "cell_type": "code",
      "source": [
        "def area(w,h):  #넓이를 구해서 출력해주는 함수\n",
        "  a=w*h\n",
        "  print(a)\n",
        "\n",
        "w=int(input('가로길이:'))\n",
        "h=int(input('세로길이:'))\n",
        "area(w,h)"
      ],
      "metadata": {
        "id": "44hAeQrxicff"
      },
      "execution_count": null,
      "outputs": []
    },
    {
      "cell_type": "code",
      "source": [
        "def area(w,h):  #넓이를 구해서 반환하는 함수\n",
        "  a=w*h\n",
        "  return a\n",
        "\n",
        "w=int(input('가로길이:'))\n",
        "h=int(input('세로길이:'))\n",
        "s=area(w,h)\n",
        "print(s)"
      ],
      "metadata": {
        "id": "lvLATg-WirCX"
      },
      "execution_count": null,
      "outputs": []
    },
    {
      "cell_type": "code",
      "source": [
        "def area(w,h):  #넓이와 둘레의 길이를 구해서 반환하는 함수\n",
        "  a=w*h\n",
        "  b=(w+h)*2\n",
        "  return a,b\n",
        "\n",
        "w=int(input('가로길이:'))\n",
        "h=int(input('세로길이:'))\n",
        "s1,s2=area(w,h)\n",
        "print('넓이:',s1,'둘레의 길이:',s2)"
      ],
      "metadata": {
        "colab": {
          "base_uri": "https://localhost:8080/"
        },
        "id": "f9uB131vlG52",
        "outputId": "26ff987b-9dc4-4889-ca99-83308eeb12b2"
      },
      "execution_count": null,
      "outputs": [
        {
          "output_type": "stream",
          "name": "stdout",
          "text": [
            "가로길이:10\n",
            "세로길이:20\n",
            "넓이: 200 둘레의 길이: 60\n"
          ]
        }
      ]
    },
    {
      "cell_type": "code",
      "source": [
        "area라는 함수를 호출할 때 가로길이와 세로길이를 전달해보시오"
      ],
      "metadata": {
        "id": "DpJOrHImfJW4"
      },
      "execution_count": null,
      "outputs": []
    },
    {
      "cell_type": "code",
      "source": [
        "학번과 이름을 매개변수로 받아서 \"00님의 학번은 00입니다.\"라고 출력하는 submit라는 함수를 만들어 호출하시오"
      ],
      "metadata": {
        "id": "vJzJ1DU0fN5O"
      },
      "execution_count": null,
      "outputs": []
    },
    {
      "cell_type": "code",
      "source": [
        "def submit(s_num,name):\n",
        "  print(name,'님의 학번은',s_num,'입니다.')\n",
        "\n",
        "\n",
        "submit(20251234,'홍길동')"
      ],
      "metadata": {
        "colab": {
          "base_uri": "https://localhost:8080/"
        },
        "id": "b5JkyyKSjQXL",
        "outputId": "576c3ad3-7c48-4f85-e88e-548a29bbf3d2"
      },
      "execution_count": null,
      "outputs": [
        {
          "output_type": "stream",
          "name": "stdout",
          "text": [
            "홍길동 님의 학번은 20251234 입니다.\n"
          ]
        }
      ]
    },
    {
      "cell_type": "code",
      "source": [
        "입력받은 숫자가 홀수인지 짝수인지 판별하는 submit2함수를 만들어 호출하시오(매개변수 1개)"
      ],
      "metadata": {
        "id": "pNzPTuokfnwe"
      },
      "execution_count": null,
      "outputs": []
    },
    {
      "cell_type": "code",
      "source": [
        "def submit2():\n",
        "  num=int(input('숫자:'))\n",
        "  if num%2==0:\n",
        "    print('짝수')\n",
        "  else:\n",
        "    print('홀수')\n",
        "num=int(input('숫자:'))\n",
        "submi2(num)"
      ],
      "metadata": {
        "id": "tGch_aQdj7Kf"
      },
      "execution_count": null,
      "outputs": []
    },
    {
      "cell_type": "code",
      "source": [
        "Enhancement Coding"
      ],
      "metadata": {
        "id": "P4UlbnDUmJpk"
      },
      "execution_count": null,
      "outputs": []
    },
    {
      "cell_type": "code",
      "source": [
        "#ex01\n",
        "def sum(n):\n",
        "  s=0\n",
        "  for i in range(1,n+1):\n",
        "    s+=i\n",
        "  return s\n",
        "num=int(input('자연수:'))\n",
        "if num>1:\n",
        "  b=sum(num)\n",
        "  print('1--',num,'=',b)\n",
        "else:\n",
        "  print('입력된 수가 1보다 작습니다.')"
      ],
      "metadata": {
        "colab": {
          "base_uri": "https://localhost:8080/"
        },
        "id": "MZtRQt3smL90",
        "outputId": "fea88dc1-27d1-446a-e882-13131b088f9e"
      },
      "execution_count": null,
      "outputs": [
        {
          "output_type": "stream",
          "name": "stdout",
          "text": [
            "자연수:10\n",
            "1-- 10 = 55\n"
          ]
        }
      ]
    },
    {
      "cell_type": "code",
      "source": [
        "#ex2\n",
        "def sum(n):\n",
        "  s=0\n",
        "  for i in range(1,10*n+1):\n",
        "    s+=i\n",
        "  return s\n",
        "\n",
        "num=int(input('자연수:'))\n",
        "if num>1 and num<=10:\n",
        "  b=sum(num)\n",
        "  print(b)\n",
        "else:\n",
        "  print('입력값의 범위를 초과했습니다.')\n"
      ],
      "metadata": {
        "colab": {
          "base_uri": "https://localhost:8080/"
        },
        "id": "iLq727dMq6NW",
        "outputId": "8191bccb-280d-471f-90f4-ed7f88755730"
      },
      "execution_count": null,
      "outputs": [
        {
          "output_type": "stream",
          "name": "stdout",
          "text": [
            "자연수:2\n",
            "210\n"
          ]
        }
      ]
    },
    {
      "cell_type": "code",
      "source": [
        "#ex03\n",
        "def sum(n):\n",
        "  s=0\n",
        "  if n>0:\n",
        "    for i in range(1,n+1):\n",
        "      s+=i\n",
        "  else:\n",
        "    for i in range(n,0,1):\n",
        "      s+=i\n",
        "  return s\n",
        "\n",
        "num=int(input('정수:'))\n",
        "if num!=0:\n",
        "  b=sum(num)\n",
        "  if b>0:\n",
        "    print('1--',num,'=',b)\n",
        "  else:\n",
        "    print('-1--',num,'=',b)\n",
        "else:\n",
        "  print('입력된 수가 0입니다.')"
      ],
      "metadata": {
        "colab": {
          "base_uri": "https://localhost:8080/"
        },
        "id": "-JSkDcXer0DZ",
        "outputId": "a4dd6a43-c978-4074-8425-7944127d6d90"
      },
      "execution_count": null,
      "outputs": [
        {
          "output_type": "stream",
          "name": "stdout",
          "text": [
            "정수:0\n",
            "입력된 수가 0입니다.\n"
          ]
        }
      ]
    },
    {
      "cell_type": "code",
      "source": [
        "#ex04\n",
        "def sum(a,b):\n",
        "  s=0\n",
        "  for i in range(a,b+1):\n",
        "    s+=i\n",
        "  return s\n",
        "\n",
        "n1=int(input('정수1:'))\n",
        "n2=int(input('정수2:'))\n",
        "if n1>n2:\n",
        "  b=sum(n2,n1)\n",
        "  print(n1,\"--\",n2,\"=\",b)\n",
        "elif n2>n1:\n",
        "  b=sum(n1,n2)\n",
        "  print(n1,\"--\",n2,\"=\",b)"
      ],
      "metadata": {
        "colab": {
          "base_uri": "https://localhost:8080/"
        },
        "id": "odtzRKTltaHS",
        "outputId": "2e3c1c75-0142-4279-d520-adab636ebe29"
      },
      "execution_count": null,
      "outputs": [
        {
          "output_type": "stream",
          "name": "stdout",
          "text": [
            "정수1:5\n",
            "정수2:3\n",
            "5 -- 3 = 12\n"
          ]
        }
      ]
    }
  ]
}